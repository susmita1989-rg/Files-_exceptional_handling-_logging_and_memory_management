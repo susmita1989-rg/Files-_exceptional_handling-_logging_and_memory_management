{
  "nbformat": 4,
  "nbformat_minor": 0,
  "metadata": {
    "colab": {
      "provenance": []
    },
    "kernelspec": {
      "name": "python3",
      "display_name": "Python 3"
    },
    "language_info": {
      "name": "python"
    }
  },
  "cells": [
    {
      "cell_type": "markdown",
      "source": [
        "# Assignment 5\n",
        "-  Files, exceptional handling,\n",
        "logging and memory\n",
        "management"
      ],
      "metadata": {
        "id": "JiUCJCYrGauL"
      }
    },
    {
      "cell_type": "markdown",
      "source": [
        "1 What is the difference between interpreted and compiled languages?\n",
        "\n",
        "-  Interpreted languages\n",
        " -  An interpreted language is a programming language that is generally interpreted, without compiling a program into machine instructions. It is one where the instructions are not directly executed by the target machine, but instead, read and executed by some other program.\n",
        " -  While in this language, the instructions are not directly executed by the target machine.\n",
        " -  There is only one step to get from source code to execution.\n",
        "\n",
        "-  Compiled language\n",
        " -  A compiled language is a programming language that is generally compiled and not interpreted. It is one where the program, once compiled, is expressed in the instructions of the target machine; this machine code is undecipherable by humans.\n",
        "  - A compiled language is a programming language that is generally compiled and not interpreted. It is one where the program, once compiled, is expressed in the instructions of the target machine; this machine code is undecipherable by humans.\n",
        "   - There are at least two steps to get from source code to execution."
      ],
      "metadata": {
        "id": "NGnvdK86GkAb"
      }
    },
    {
      "cell_type": "markdown",
      "source": [
        "2  What is exception handling in Python?\n",
        "-  Python Exception Handling handles errors that occur during the execution of a program. Exception handling allows to respond to the error, instead of crashing the running program. It enables you to catch and manage errors, making your code more robust and user-friendly.\n",
        "\n",
        "Example: Trying to divide a number by zero will cause an exception."
      ],
      "metadata": {
        "id": "vdYepyVpH7Vs"
      }
    },
    {
      "cell_type": "code",
      "source": [
        "# Example of an exception\n",
        "n = 10\n",
        "try:\n",
        "    res = n / 0  # This will raise a ZeroDivisionError\n",
        "\n",
        "except ZeroDivisionError:\n",
        "    print(\"Can't be divided by zero!\")"
      ],
      "metadata": {
        "colab": {
          "base_uri": "https://localhost:8080/"
        },
        "id": "ZtkksjQTIzpk",
        "outputId": "05481c36-5412-4e73-a558-f3a2e3a95c74"
      },
      "execution_count": 1,
      "outputs": [
        {
          "output_type": "stream",
          "name": "stdout",
          "text": [
            "Can't be divided by zero!\n"
          ]
        }
      ]
    },
    {
      "cell_type": "markdown",
      "source": [
        "3 What is the purpose of the finally block in exception handling?\n",
        "-  The 'finally' block is executed regardless of whether an exception occurred or not. It provides a way to define cleanup actions that must be performed, such as releasing resources or closing files, irrespective of the presence of exceptions."
      ],
      "metadata": {
        "id": "V4V30aSeI_Ek"
      }
    },
    {
      "cell_type": "markdown",
      "source": [
        "4 What is logging in Python?\n",
        " -  Python logging is a module that allows you to track events that occur while your program is running. You can use logging to record information about errors, warnings, and other events that occur during program execution. And logging is a useful tool for debugging, troubleshooting, and monitoring your program."
      ],
      "metadata": {
        "id": "g1arweBNJXG6"
      }
    },
    {
      "cell_type": "markdown",
      "source": [
        "5 What is the significance of the __del__ method in Python?\n",
        "-  The __del__ method is a special method in Python that is called when an object is about to be destroyed. It allows you to define specific cleanup actions that should be taken when an object is garbage collected. This method can be particularly useful for releasing external resources such as file handles, network connections, or database connections that the object may hold."
      ],
      "metadata": {
        "id": "Fs6xJ3a0JqKI"
      }
    },
    {
      "cell_type": "markdown",
      "source": [
        "6 What is the difference between import and from ... import in Python?\n",
        "-  In Python, both from and import are used to bring modules and their components into your script, but they serve slightly different purposes and have different syntax. Here’s a detailed explanation of each:\n",
        "\n",
        "import\n",
        "\n",
        " - The import statement is used to import an entire module.\n",
        " - When you use import, you need to prefix the module's functions or classes with the module name.\n",
        "\n",
        "from\n",
        "\n",
        " -  The from statement allows you to import specific functions, classes, or variables from a module.\n",
        " - This way, you can use them directly without the module prefix."
      ],
      "metadata": {
        "id": "XQuwPQVjJ4b5"
      }
    },
    {
      "cell_type": "markdown",
      "source": [
        "7 How can you handle multiple exceptions in Python?\n",
        " -  In Python, handling multiple exceptions ensures that your program can gracefully deal with different types of errors that may occur during execution. There are several ways to handle multiple exceptions:\n",
        "\n",
        "- 1  Using Multiple except Blocks\n",
        " -  You can define multiple except blocks, each handling a specific exception type. This approach allows you to respond differently depending on the error.\n",
        "\n",
        "Example: Handling ValueError and ZeroDivisionError Separately\n",
        "\n",
        "- 2 Catching Multiple Exceptions in a Single except Block\n",
        " -  If you want to handle different exceptions the same way, you can group them using a tuple.\n",
        "\n",
        "Example: Handling ValueError and ZeroDivisionError Together\n",
        "\n",
        "- 3 Using a Generic except Exception Block\n",
        " - If you are unsure about the type of exception or want to catch all possible errors, you can use a generic except Exception block.\n",
        "\n",
        "Example: Handling Any Exception\n",
        "\n",
        "- 4 Using finally for Cleanup\n",
        " - The finally block runs regardless of whether an exception occurs or not. It is often used to release resources.\n",
        "\n",
        "Example: Using finally"
      ],
      "metadata": {
        "id": "E8JVQ47MKqAe"
      }
    },
    {
      "cell_type": "code",
      "source": [
        "#1\n",
        "try:\n",
        "    num = int(input(\"Enter a number: \"))  # May raise ValueError\n",
        "    result = 10 / num                     # May raise ZeroDivisionError\n",
        "    print(\"Result:\", result)\n",
        "except ValueError:\n",
        "    print(\"Invalid input! Please enter a valid number.\")\n",
        "except ZeroDivisionError:\n",
        "    print(\"Error! You cannot divide by zero.\")\n"
      ],
      "metadata": {
        "colab": {
          "base_uri": "https://localhost:8080/"
        },
        "id": "Td_vKxGSN-0H",
        "outputId": "de8113f5-b4a3-44b1-b229-40000f308526"
      },
      "execution_count": 2,
      "outputs": [
        {
          "output_type": "stream",
          "name": "stdout",
          "text": [
            "Enter a number: 5\n",
            "Result: 2.0\n"
          ]
        }
      ]
    },
    {
      "cell_type": "code",
      "source": [
        "#2\n",
        "try:\n",
        "    num = int(input(\"Enter a number: \"))\n",
        "    result = 10 / num\n",
        "except (ValueError, ZeroDivisionError) as e:\n",
        "    print(f\"An error occurred: {e}\")\n"
      ],
      "metadata": {
        "colab": {
          "base_uri": "https://localhost:8080/"
        },
        "id": "H-iipjqCOGSv",
        "outputId": "2fb8e175-b18f-49b3-ba59-a1e244d71363"
      },
      "execution_count": 4,
      "outputs": [
        {
          "name": "stdout",
          "output_type": "stream",
          "text": [
            "Enter a number: 7\n"
          ]
        }
      ]
    },
    {
      "cell_type": "code",
      "source": [
        "#3\n",
        "try:\n",
        "    num = int(input(\"Enter a number: \"))\n",
        "    result = 10 / num\n",
        "except Exception as e:\n",
        "    print(f\"An unexpected error occurred: {e}\")\n"
      ],
      "metadata": {
        "colab": {
          "base_uri": "https://localhost:8080/"
        },
        "id": "2T3JH6y1OdqT",
        "outputId": "2d746911-17ff-4360-8ec6-9564402a949b"
      },
      "execution_count": 5,
      "outputs": [
        {
          "name": "stdout",
          "output_type": "stream",
          "text": [
            "Enter a number: 7\n"
          ]
        }
      ]
    },
    {
      "cell_type": "markdown",
      "source": [
        "8 What is the purpose of the with statement when handling files in Python?\n",
        "-  The with statement in Python is used to simplify the management of resources such as file streams, network connections, and locks. It ensures that resources are properly acquired and released, avoiding common issues such as resource leaks."
      ],
      "metadata": {
        "id": "1EhtbF2lOtG4"
      }
    },
    {
      "cell_type": "markdown",
      "source": [
        "9 What is the difference between multithreading and multiprocessing?\n",
        "-  While multithreading and multiprocessing can both be used to increase the computing power of a system, there are some key differences between these approaches. Here are some of the primary ways these methods differ from one another:\n",
        "# multithreading\n",
        "-  Multithreading focuses on generating computing threads from a single process, whereas multiprocessing increases computing power by adding CPUs.\n",
        "-  multithreading is quick to create and requires few resources, whereas multiprocessing requires a significant amount of time and specific resources to create.\n",
        "-   Multithreading uses a common address space for all the threads, whereas multiprocessing creates a separate address space for each process.\n",
        "\n",
        " # Multiprocessing\n",
        "-  Multiprocessing uses two or more CPUs to increase computing power, whereas multithreading uses a single process with multiple code segments to increase computing power.\n",
        "-  Multiprocessing is used to create a more reliable system, whereas multithreading is used to create threads that run parallel to each other.\n",
        "-  Multiprocessing executes many processes simultaneously, whereas multithreading executes many threads simultaneously.\n"
      ],
      "metadata": {
        "id": "mYflUN9JPfYQ"
      }
    },
    {
      "cell_type": "markdown",
      "source": [],
      "metadata": {
        "id": "qvLeuWpgS2dR"
      }
    },
    {
      "cell_type": "markdown",
      "source": [
        "10 What are the advantages of using logging in a program?\n",
        "-  Logging is a powerful tool that helps in debugging, tracking application behavior, and storing crucial information for future analysis. It is more flexible and efficient than using print statements.Using logging in a program provides several advantages over using simple print statements. It helps with debugging, monitoring, and maintaining applications effectively. Here are the key benefits:\n",
        "\n"
      ],
      "metadata": {
        "id": "Ew77VL-2TDep"
      }
    },
    {
      "cell_type": "markdown",
      "source": [
        "11 What is memory management in Python?\n",
        "-  Memory management in Python refers to how the Python interpreter allocates, uses, and frees memory while executing a program. Python manages memory automatically using Garbage Collection (GC) and Reference Counting to ensure efficient use of memory.\n",
        "\n",
        "\n"
      ],
      "metadata": {
        "id": "0Mp6QJLzTuhw"
      }
    },
    {
      "cell_type": "markdown",
      "source": [
        "12 What are the basic steps involved in exception handling in Python?\n",
        "-  xception handling in Python follows four key steps to prevent program crashes and handle errors gracefully:\n",
        "\n",
        "Step\tDescription\n",
        "1. try\tWraps the code that may cause an error.\n",
        "2. except\tCatches and handles specific or multiple exceptions.\n",
        "3. else\tRuns if no exception occurs.\n",
        "4. finally\tAlways executes (for cleanup tasks).\n"
      ],
      "metadata": {
        "id": "3JMp53VfT9A8"
      }
    },
    {
      "cell_type": "code",
      "source": [
        "try:\n",
        "    x = int(input(\"Enter a number: \"))  # May raise ValueError\n",
        "    result = 10 / x                     # May raise ZeroDivisionError\n",
        "except (ValueError, ZeroDivisionError) as e:\n",
        "    print(f\"Error occurred: {e}\")\n",
        "else:\n",
        "    print(f\"Success! Result = {result}\")\n",
        "finally:\n",
        "    print(\"Execution completed.\")\n"
      ],
      "metadata": {
        "colab": {
          "base_uri": "https://localhost:8080/"
        },
        "id": "i6ZimGWuURMl",
        "outputId": "641f5f42-f852-4bf8-e3ec-8c7da3ba2ebb"
      },
      "execution_count": 6,
      "outputs": [
        {
          "output_type": "stream",
          "name": "stdout",
          "text": [
            "Enter a number: 5\n",
            "Success! Result = 2.0\n",
            "Execution completed.\n"
          ]
        }
      ]
    },
    {
      "cell_type": "markdown",
      "source": [
        "13 Why is memory management important in Python?\n",
        "-  Memory management is crucial in Python to ensure efficient use of system resources, prevent memory leaks, and improve program performance. Here’s why it matters:\n",
        "\n",
        "1. Prevents Memory Leaks\n",
        "-  Unused objects can consume memory indefinitely if not freed.\n",
        " Python’s Garbage Collector (GC) automatically removes unused objects, preventing memory leaks.\n",
        "2. Optimizes Performance\n",
        "- Poor memory management can slow down applications by increasing memory usage.\n",
        " Python’s dynamic memory allocation and object caching (like small integer caching) improve performance.\n",
        "3. Prevents Crashes Due to Excessive Memory Usage\n",
        "-  Memory overflow can crash applications, especially for large datasets.\n",
        " Python efficiently manages heap memory, ensuring large objects are handled properly.\n",
        "\n",
        "4. Supports Large-Scale Applications\n",
        "-  Web servers, AI models, and data analysis tools require effective memory use.\n",
        " Python automatically allocates and deallocates memory, making it ideal for large applications.\n",
        "\n",
        "5. Ensures Efficient Resource Utilization\n",
        "-  Python manages stack and heap memory efficiently, ensuring that variables, objects, and data structures are stored and retrieved optimally."
      ],
      "metadata": {
        "id": "pon-qw7SUa_b"
      }
    },
    {
      "cell_type": "code",
      "source": [
        "# 1 Example\n",
        "import gc\n",
        "gc.collect()  # Manually triggers garbage collection\n"
      ],
      "metadata": {
        "id": "YatiK0UNVMIU"
      },
      "execution_count": null,
      "outputs": []
    },
    {
      "cell_type": "code",
      "source": [
        "# 2 Example\n",
        "a = 256\n",
        "b = 256\n",
        "print(a is b)  # True (cached)\n"
      ],
      "metadata": {
        "colab": {
          "base_uri": "https://localhost:8080/"
        },
        "id": "IBXRJ4WGVR1C",
        "outputId": "9c8d29d3-1d00-47a2-bb2b-0cce516a3ed5"
      },
      "execution_count": 7,
      "outputs": [
        {
          "output_type": "stream",
          "name": "stdout",
          "text": [
            "True\n"
          ]
        }
      ]
    },
    {
      "cell_type": "markdown",
      "source": [
        "14 What is the role of try and except in exception handling?\n",
        "-  Role of try and except in Exception Handling in Python\n",
        "Exception handling in Python ensures that a program can gracefully handle errors without crashing. The try and except blocks play a key role in this process:\n",
        "\n",
        "1. try Block – Detects Errors\n",
        "-  The try block contains code that may raise an exception.\n",
        "Python executes the code inside try, and if an error occurs, it jumps to the except block.\n",
        "2. except Block – Handles Errors\n",
        "-  The except block catches and handles exceptions, preventing program crashes.\n"
      ],
      "metadata": {
        "id": "zbrb49o_Ve7-"
      }
    },
    {
      "cell_type": "markdown",
      "source": [
        "15  How does Python's garbage collection system work?\n",
        "-  Garbage collection, an automatic memory management technique, is used by programming languages to deallocate memory that is no longer required by the program. The garbage collector in Python locates and releases memory occupied by objects that can no longer be accessed or referenced by the program's code."
      ],
      "metadata": {
        "id": "izjl58JcWyQM"
      }
    },
    {
      "cell_type": "markdown",
      "source": [
        "16 What is the purpose of the else block in exception handling?\n",
        "-  The try block lets you test a block of code for errors. The except block lets you handle the error. The else block lets you execute code when there is no error. The finally block lets you execute code, regardless of the result of the try- and except blocks."
      ],
      "metadata": {
        "id": "bs-s0LB6XANJ"
      }
    },
    {
      "cell_type": "markdown",
      "source": [
        "17 What are the common logging levels in Python?\n",
        "-  In Python, the logging module provides different log levels to categorize the severity of log messages. These levels help you filter logs based on their importance."
      ],
      "metadata": {
        "id": "vZtsuO7MXPsW"
      }
    },
    {
      "cell_type": "markdown",
      "source": [
        "18  What is the difference between os.fork() and multiprocessing in Python?\n",
        "-  In Python, both os.fork() and the multiprocessing module are used to create new processes, but they are used in different contexts and have important - -\n",
        " - distinctions in their behavioros.fork(): A low-level, Unix-specific method to create new processes by duplicating the parent process. It’s more manual but gives you fine control.\n",
        " - multiprocessing: A high-level, cross-platform module that abstracts process creation and management, making it easier to write concurrent programs that run on multiple processors."
      ],
      "metadata": {
        "id": "IWJ1yot5Xi7T"
      }
    },
    {
      "cell_type": "markdown",
      "source": [
        "19 What is the importance of closing a file in Python?\n",
        "-  Because files are limited resources managed by the operating system, making sure files are closed after use will protect against hard-to-debug issues like running out of file handles or experiencing corrupted data."
      ],
      "metadata": {
        "id": "EttRheQrX9hL"
      }
    },
    {
      "cell_type": "markdown",
      "source": [
        "20  What is the difference between file.read() and file.readline() in Python?\n",
        "- In Python, the `read()` method is used to read a specified number of characters from a file or input stream, while the `readline()` method is used to read a single line from a file or input stream. The `read()` method will read the entire content of the file or stream if no argument is provided, returning a string."
      ],
      "metadata": {
        "id": "uU5tt3VGYOQo"
      }
    },
    {
      "cell_type": "markdown",
      "source": [
        "21 What is the logging module in Python used for?\n",
        "-  Python logging is a module that allows you to track events that occur while your program is running. You can use logging to record information about errors, warnings, and other events that occur during program execution. And logging is a useful tool for debugging, troubleshooting, and monitoring your program."
      ],
      "metadata": {
        "id": "PvTzPZRrYZ4Q"
      }
    },
    {
      "cell_type": "markdown",
      "source": [
        "22 What is the os module in Python used for in file handling?\n",
        "-  he OS module in Python provides functions for interacting with the operating system. OS comes under Python’s standard utility modules. This module provides a portable way of using operating system-dependent functionality.\n",
        "\n",
        "The *os* and *os.path* modules include many functions to interact with the file system.\n",
        "\n",
        "Python-OS-Module Functions\n",
        "Here we will discuss some important functions of the Python os module :\n",
        "\n",
        "Handling the Current Working Directory\n",
        "Creating a Directory\n",
        "Listing out Files and Directories with Python\n",
        "Deleting Directory or Files using Python"
      ],
      "metadata": {
        "id": "rQ1gMxSUYkXF"
      }
    },
    {
      "cell_type": "markdown",
      "source": [
        "23 What are the challenges associated with memory management in Python?\n",
        "-  In this tutorial, we will learn how Python manages the memory or how Python handles our date internally. We will dive deep into this topic to understand internal working of Python and how it handles the memory.\n",
        "\n",
        "This tutorial will give a deep understanding of Python memory management. When we execute our Python script, there are so many logic runs behind in Python memory to make the code efficient.\n",
        "\n",
        "Introduction\n",
        "Memory management is very important for software developers to work efficiently with any programming language. As we know, Python is a famous and widely used programming language. It is used almost in every technical domain. In contrast to a programming language, memory management is related to writing memory-efficient code. We cannot overlook the importance of memory management while implementing a large amount of data. Improper memory management leads to slowness on the application and the server-side components. It also becomes the reason of improper working. If the memory is not handled well, it will take much time while preprocessing the data."
      ],
      "metadata": {
        "id": "ZukBGtbaYz4E"
      }
    },
    {
      "cell_type": "markdown",
      "source": [
        "24  How do you raise an exception manually in Python?\n",
        "-  The raise statement in Python is used to raise an exception. Try-except blocks can be used to manage exceptions, which are errors that happen while a programme is running. When an exception is triggered, the programme goes to the closest exception handler, interrupting the regular flow of execution.\n",
        "\n",
        "- The raise keyword is typically used inside a function or method, and is used to indicate an error condition.\n",
        "We can throw an exception and immediately halt the running of your programme by using the raise keyword.\n",
        "Python looks for the closest exception handler, which is often defined using a try-except block, when an exception is triggered.\n",
        "If an exception handler is discovered, its code is performed, and the try-except block's starting point is reached again."
      ],
      "metadata": {
        "id": "Nbiubyi9ZTrR"
      }
    },
    {
      "cell_type": "markdown",
      "source": [
        "25 Why is it important to use multithreading in certain applications?\n",
        "-  Multithreading enhances scalability by allowing a program to take advantage of multiple CPU cores or processors. Tasks can be divided into threads that can execute concurrently, enabling better utilization of available hardware resources and improving overall system performance as workload increases."
      ],
      "metadata": {
        "id": "R7yS_ROBZnIC"
      }
    },
    {
      "cell_type": "markdown",
      "source": [
        "# Practical Questions"
      ],
      "metadata": {
        "id": "f9abQOf0ZweW"
      }
    },
    {
      "cell_type": "markdown",
      "source": [
        "1 How can you open a file for writing in Python and write a string to it?"
      ],
      "metadata": {
        "id": "DBRXMehDaMr1"
      }
    },
    {
      "cell_type": "code",
      "source": [
        "# Make sure to escape backslashes or use raw string literals (r'path')\n",
        "file_path = r'C:\\Users\\ASUS\\Desktop\\python 1\\example.txt'\n",
        "\n",
        "# Open the file for writing\n",
        "with open(file_path, 'w') as file:\n",
        "    file.write(\"Hello, world! This is written to a file on the desktop.\")\n"
      ],
      "metadata": {
        "id": "4eas1lfOaRpq"
      },
      "execution_count": 10,
      "outputs": []
    },
    {
      "cell_type": "markdown",
      "source": [
        "2 Write a Python program to read the contents of a file and print each line."
      ],
      "metadata": {
        "id": "bVO_hPYfamB_"
      }
    },
    {
      "cell_type": "code",
      "source": [
        "# Specify the file path\n",
        "file_path = 'example.txt'  # Replace with your file path\n",
        "\n",
        "# Open the file in read mode\n",
        "with open(file_path, 'r') as file:\n",
        "    # Read and print each line in the file\n",
        "    for line in file:\n",
        "        print(line, end='')  # end='' prevents adding an extra newline"
      ],
      "metadata": {
        "id": "sPO7PQwkatnM"
      },
      "execution_count": 9,
      "outputs": []
    },
    {
      "cell_type": "markdown",
      "source": [
        "3 How would you handle a case where the file doesn't exist while trying to open it for reading?"
      ],
      "metadata": {
        "id": "NeoUw3nvbvxX"
      }
    },
    {
      "cell_type": "code",
      "source": [
        "try:\n",
        "    # Attempt to open the file for reading\n",
        "    with open('example.txt', 'r') as file:\n",
        "        content = file.read()\n",
        "        print(content)\n",
        "except FileNotFoundError:\n",
        "    # Handle the case where the file doesn't exist\n",
        "    print(\"Error: The file does not exist.\")\n",
        "except PermissionError:\n",
        "    # Handle the case where you don't have permission to read the file\n",
        "    print(\"Error: You do not have permission to read the file.\")\n"
      ],
      "metadata": {
        "colab": {
          "base_uri": "https://localhost:8080/"
        },
        "id": "X5etOm3jb78y",
        "outputId": "a1985dd2-6683-4c40-cdfe-cca25d8a3df1"
      },
      "execution_count": 11,
      "outputs": [
        {
          "output_type": "stream",
          "name": "stdout",
          "text": [
            "Hello, this is a string written to the file!\n"
          ]
        }
      ]
    },
    {
      "cell_type": "markdown",
      "source": [
        "4 Write a Python script that reads from one file and writes its content to another file."
      ],
      "metadata": {
        "id": "jZkX_lUjb-ba"
      }
    },
    {
      "cell_type": "code",
      "source": [
        "# Define the paths for the input and output files\n",
        "input_file_path = 'input_file.txt'  # Replace with the path of your input file\n",
        "output_file_path = 'output_file.txt'  # Replace with the path of your output file\n",
        "\n",
        "try:\n",
        "    # Open the input file in read mode\n",
        "    with open(input_file_path, 'r') as input_file:\n",
        "        content = input_file.read()  # Read the content of the input file\n",
        "\n",
        "    # Open the output file in write mode\n",
        "    with open(output_file_path, 'w') as output_file:\n",
        "        output_file.write(content)  # Write the content to the output file\n",
        "\n",
        "    print(\"Content has been successfully copied.\")\n",
        "\n",
        "except FileNotFoundError:\n",
        "    print(f\"Error: The file {input_file_path} does not exist.\")\n",
        "except PermissionError:\n",
        "    print(\"Error: You do not have permission to read or write to one of the files.\")\n",
        "except Exception as e:\n",
        "    print(f\"An unexpected error occurred: {e}\")\n"
      ],
      "metadata": {
        "colab": {
          "base_uri": "https://localhost:8080/"
        },
        "id": "PfknZfmkcEPs",
        "outputId": "7770662a-c784-47fc-e6df-1d863c38f27d"
      },
      "execution_count": 12,
      "outputs": [
        {
          "output_type": "stream",
          "name": "stdout",
          "text": [
            "Error: The file input_file.txt does not exist.\n"
          ]
        }
      ]
    },
    {
      "cell_type": "markdown",
      "source": [
        "5 How would you catch and handle division by zero error in Python?"
      ],
      "metadata": {
        "id": "B6b3SyizcNW6"
      }
    },
    {
      "cell_type": "code",
      "source": [
        "try:\n",
        "    # Get user input for division\n",
        "    numerator = float(input(\"Enter numerator: \"))\n",
        "    denominator = float(input(\"Enter denominator: \"))\n",
        "\n",
        "    # Perform division\n",
        "    result = numerator / denominator\n",
        "    print(f\"The result is: {result}\")\n",
        "\n",
        "except ZeroDivisionError:\n",
        "    print(\"Error: Cannot divide by zero. Please provide a non-zero denominator.\")\n",
        "except ValueError:\n",
        "    print(\"Error: Invalid input. Please enter valid numbers.\")\n"
      ],
      "metadata": {
        "colab": {
          "base_uri": "https://localhost:8080/"
        },
        "id": "V_cmQ92IcWMJ",
        "outputId": "42055458-fc28-4226-97ba-c551bbf8d07b"
      },
      "execution_count": 13,
      "outputs": [
        {
          "output_type": "stream",
          "name": "stdout",
          "text": [
            "Enter numerator: 4\n",
            "Enter denominator: 5\n",
            "The result is: 0.8\n"
          ]
        }
      ]
    },
    {
      "cell_type": "markdown",
      "source": [
        "6 Write a Python program that logs an error message to a log file when a division by zero exception occurs."
      ],
      "metadata": {
        "id": "GxW8ZobTciaz"
      }
    },
    {
      "cell_type": "code",
      "source": [
        "import logging\n",
        "\n",
        "# Configure logging to write to a file\n",
        "logging.basicConfig(\n",
        "    filename='error_log.txt',   # Log file name\n",
        "    level=logging.ERROR,        # Log level (we want to log errors and above)\n",
        "    format='%(asctime)s - %(levelname)s - %(message)s'  # Log format\n",
        ")\n",
        "\n",
        "def divide_numbers():\n",
        "    try:\n",
        "        # Get user input for division\n",
        "        numerator = float(input(\"Enter numerator: \"))\n",
        "        denominator = float(input(\"Enter denominator: \"))\n",
        "\n",
        "        # Perform division\n",
        "        result = numerator / denominator\n",
        "        print(f\"The result is: {result}\")\n",
        "\n",
        "    except ZeroDivisionError as e:\n",
        "        # Log the error to the file\n",
        "        logging.error(f\"Division by zero error: {e}\")\n",
        "        print(\"Error: Cannot divide by zero. Please provide a non-zero denominator.\")\n",
        "\n",
        "    except ValueError as e:\n",
        "        # Log the error to the file if invalid input is provided\n",
        "        logging.error(f\"Invalid input error: {e}\")\n",
        "        print(\"Error: Invalid input. Please enter valid numbers.\")\n",
        "\n",
        "# Run the division function\n",
        "divide_numbers()\n"
      ],
      "metadata": {
        "colab": {
          "base_uri": "https://localhost:8080/"
        },
        "id": "fcRIf8bgcw_h",
        "outputId": "6b0d69cb-736e-4179-965b-2b5069700468"
      },
      "execution_count": 14,
      "outputs": [
        {
          "output_type": "stream",
          "name": "stdout",
          "text": [
            "Enter numerator: 65\n",
            "Enter denominator: 65\n",
            "The result is: 1.0\n"
          ]
        }
      ]
    },
    {
      "cell_type": "markdown",
      "source": [
        "7 How do you log information at different levels (INFO, ERROR, WARNING) in Python using the logging module?"
      ],
      "metadata": {
        "id": "b4D-mC5mdA6o"
      }
    },
    {
      "cell_type": "code",
      "source": [
        "import logging\n",
        "\n",
        "# Configure logging to write to a file with different levels\n",
        "logging.basicConfig(\n",
        "    filename='app.log',  # Log file name\n",
        "    level=logging.DEBUG,  # Set the log level (DEBUG to capture everything)\n",
        "    format='%(asctime)s - %(levelname)s - %(message)s'  # Log format\n",
        ")\n",
        "\n",
        "# Example usage of different log levels\n",
        "\n",
        "# Debug level (detailed information, usually for diagnosing issues)\n",
        "logging.debug(\"This is a debug message. Useful for developers.\")\n",
        "\n",
        "# Info level (general application flow)\n",
        "logging.info(\"This is an info message. General information.\")\n",
        "\n",
        "# Warning level (indicates something unexpected but not critical)\n",
        "logging.warning(\"This is a warning message. Something unexpected happened.\")\n",
        "\n",
        "# Error level (a more serious issue)\n",
        "logging.error(\"This is an error message. Something went wrong.\")\n",
        "\n",
        "# Critical level (a serious error, program may not continue)\n",
        "logging.critical(\"This is a critical message. Severe problem!\")\n"
      ],
      "metadata": {
        "colab": {
          "base_uri": "https://localhost:8080/"
        },
        "id": "w3V3gYKHdF_r",
        "outputId": "baf3fbd6-ae87-4ce3-f8ac-44745cbc6454"
      },
      "execution_count": 15,
      "outputs": [
        {
          "output_type": "stream",
          "name": "stderr",
          "text": [
            "WARNING:root:This is a warning message. Something unexpected happened.\n",
            "ERROR:root:This is an error message. Something went wrong.\n",
            "CRITICAL:root:This is a critical message. Severe problem!\n"
          ]
        }
      ]
    },
    {
      "cell_type": "markdown",
      "source": [
        "8 Write a program to handle a file opening error using exception handling."
      ],
      "metadata": {
        "id": "DioPjk4ldQsv"
      }
    },
    {
      "cell_type": "code",
      "source": [
        "try:\n",
        "    # Try to open a file in read mode\n",
        "    with open('non_existent_file.txt', 'r') as file:\n",
        "        content = file.read()\n",
        "        print(content)\n",
        "\n",
        "except FileNotFoundError:\n",
        "    print(\"Error: The file does not exist.\")\n",
        "except PermissionError:\n",
        "    print(\"Error: You do not have permission to access the file.\")\n",
        "except Exception as e:\n",
        "    print(f\"An unexpected error occurred: {e}\")\n"
      ],
      "metadata": {
        "colab": {
          "base_uri": "https://localhost:8080/"
        },
        "id": "lXA0iqf3d3_R",
        "outputId": "4ccda55d-66c1-4893-87d7-6ec56fdc0fd1"
      },
      "execution_count": 16,
      "outputs": [
        {
          "output_type": "stream",
          "name": "stdout",
          "text": [
            "Error: The file does not exist.\n"
          ]
        }
      ]
    },
    {
      "cell_type": "markdown",
      "source": [
        "9 How can you read a file line by line and store its content in a list in Python."
      ],
      "metadata": {
        "id": "LHwYTz13d_pp"
      }
    },
    {
      "cell_type": "code",
      "source": [
        "# Define the file path\n",
        "file_path = 'example.txt'  # Replace with your file path\n",
        "\n",
        "try:\n",
        "    # Open the file in read mode\n",
        "    with open(file_path, 'r') as file:\n",
        "        # Read all lines and store them in a list\n",
        "        lines = file.readlines()\n",
        "\n",
        "    # Print the list of lines\n",
        "    print(\"Content of the file:\")\n",
        "    print(lines)\n",
        "\n",
        "except FileNotFoundError:\n",
        "    print(f\"Error: The file '{file_path}' does not exist.\")\n",
        "except PermissionError:\n",
        "    print(f\"Error: You do not have permission to access the file '{file_path}'.\")\n",
        "except Exception as e:\n",
        "    print(f\"An unexpected error occurred: {e}\")\n"
      ],
      "metadata": {
        "colab": {
          "base_uri": "https://localhost:8080/"
        },
        "id": "zZetPPLYeGro",
        "outputId": "95bd3a94-9636-4804-ee2b-63c801f0965d"
      },
      "execution_count": 17,
      "outputs": [
        {
          "output_type": "stream",
          "name": "stdout",
          "text": [
            "Content of the file:\n",
            "['Hello, this is a string written to the file!']\n"
          ]
        }
      ]
    },
    {
      "cell_type": "markdown",
      "source": [
        "10 How can you append data to an existing file in Python?"
      ],
      "metadata": {
        "id": "itTysDTZeSCB"
      }
    },
    {
      "cell_type": "code",
      "source": [
        "# Define the file path\n",
        "file_path = 'example.txt'  # Replace with your file path\n",
        "\n",
        "# Data to append to the file\n",
        "data_to_append = \"This is the new data being appended to the file.\\n\"\n",
        "\n",
        "try:\n",
        "    # Open the file in append mode ('a')\n",
        "    with open(file_path, 'a') as file:\n",
        "        # Write the new data to the end of the file\n",
        "        file.write(data_to_append)\n",
        "\n",
        "    print(\"Data has been successfully appended to the file.\")\n",
        "\n",
        "except FileNotFoundError:\n",
        "    print(f\"Error: The file '{file_path}' does not exist.\")\n",
        "except PermissionError:\n",
        "    print(f\"Error: You do not have permission to access the file '{file_path}'.\")\n",
        "except Exception as e:\n",
        "    print(f\"An unexpected error occurred: {e}\")\n"
      ],
      "metadata": {
        "colab": {
          "base_uri": "https://localhost:8080/"
        },
        "id": "zgh_T7ubeZh1",
        "outputId": "3ab30dd3-f68b-4eaa-dd4a-cb5edefc6e90"
      },
      "execution_count": 18,
      "outputs": [
        {
          "output_type": "stream",
          "name": "stdout",
          "text": [
            "Data has been successfully appended to the file.\n"
          ]
        }
      ]
    },
    {
      "cell_type": "markdown",
      "source": [
        "11  Write a Python program that uses a try-except block to handle an error when attempting to access a dictionary key that doesn't exist."
      ],
      "metadata": {
        "id": "5kYQdOfce-9M"
      }
    },
    {
      "cell_type": "code",
      "source": [
        "# Sample dictionary\n",
        "my_dict = {'name': 'Alice', 'age': 25, 'city': 'New York'}\n",
        "\n",
        "# Key to access\n",
        "key_to_access = 'country'\n",
        "\n",
        "try:\n",
        "    # Try to access the value of a key that may not exist\n",
        "    value = my_dict[key_to_access]\n",
        "    print(f\"The value for the key '{key_to_access}' is: {value}\")\n",
        "\n",
        "except KeyError:\n",
        "    # Handle the case where the key doesn't exist in the dictionary\n",
        "    print(f\"Error: The key '{key_to_access}' does not exist in the dictionary.\")\n"
      ],
      "metadata": {
        "colab": {
          "base_uri": "https://localhost:8080/"
        },
        "id": "3zxOyPJXfEIU",
        "outputId": "52893a7c-0b18-4969-acbd-2187aea8da6f"
      },
      "execution_count": 19,
      "outputs": [
        {
          "output_type": "stream",
          "name": "stdout",
          "text": [
            "Error: The key 'country' does not exist in the dictionary.\n"
          ]
        }
      ]
    },
    {
      "cell_type": "markdown",
      "source": [
        "12 Write a program that demonstrates using multiple except blocks to handle different types of exceptions."
      ],
      "metadata": {
        "id": "PbWMx9xFfVNg"
      }
    },
    {
      "cell_type": "code",
      "source": [
        "def handle_exceptions():\n",
        "    try:\n",
        "        # Example 1: ValueError\n",
        "        num = int(input(\"Enter a number: \"))  # Could raise ValueError if input is not a valid integer\n",
        "\n",
        "        # Example 2: ZeroDivisionError\n",
        "        result = 10 / num  # Could raise ZeroDivisionError if num is 0\n",
        "\n",
        "        # Example 3: FileNotFoundError\n",
        "        with open('non_existent_file.txt', 'r') as file:  # Trying to open a non-existent file\n",
        "            content = file.read()\n",
        "            print(content)\n",
        "\n",
        "    except ValueError:\n",
        "        print(\"Error: Invalid input. Please enter a valid number.\")\n",
        "\n",
        "    except ZeroDivisionError:\n",
        "        print(\"Error: Division by zero is not allowed.\")\n",
        "\n",
        "    except FileNotFoundError:\n",
        "        print(\"Error: The file 'non_existent_file.txt' was not found.\")\n",
        "\n",
        "    except Exception as e:\n",
        "        print(f\"An unexpected error occurred: {e}\")\n",
        "\n",
        "# Run the function to demonstrate handling multiple exceptions\n",
        "handle_exceptions()\n"
      ],
      "metadata": {
        "colab": {
          "base_uri": "https://localhost:8080/"
        },
        "id": "of2SkPnyfkDj",
        "outputId": "6a70743d-1e38-4ab7-9b3c-356cd47e9800"
      },
      "execution_count": 20,
      "outputs": [
        {
          "output_type": "stream",
          "name": "stdout",
          "text": [
            "Enter a number: 45\n",
            "Error: The file 'non_existent_file.txt' was not found.\n"
          ]
        }
      ]
    },
    {
      "cell_type": "markdown",
      "source": [
        "13 How would you check if a file exists before attempting to read it in Python?"
      ],
      "metadata": {
        "id": "9UIuVUK1f01c"
      }
    },
    {
      "cell_type": "code",
      "source": [
        "import os\n",
        "\n",
        "# File path to check\n",
        "file_path = 'example.txt'  # Replace with your file path\n",
        "\n",
        "# Check if the file exists\n",
        "if os.path.exists(file_path) and os.path.isfile(file_path):\n",
        "    try:\n",
        "        # Open and read the file if it exists\n",
        "        with open(file_path, 'r') as file:\n",
        "            content = file.read()\n",
        "            print(\"File Content:\")\n",
        "            print(content)\n",
        "    except Exception as e:\n",
        "        print(f\"An error occurred while reading the file: {e}\")\n",
        "else:\n",
        "    print(f\"Error: The file '{file_path}' does not exist or is not a valid file.\")\n"
      ],
      "metadata": {
        "colab": {
          "base_uri": "https://localhost:8080/"
        },
        "id": "qaxSSmuwf67K",
        "outputId": "b6e52485-afb7-4374-b488-995fd1537c6a"
      },
      "execution_count": 21,
      "outputs": [
        {
          "output_type": "stream",
          "name": "stdout",
          "text": [
            "File Content:\n",
            "Hello, this is a string written to the file!This is the new data being appended to the file.\n",
            "\n"
          ]
        }
      ]
    },
    {
      "cell_type": "markdown",
      "source": [
        "14 Write a program that uses the logging module to log both informational and error messages."
      ],
      "metadata": {
        "id": "NF_rLh4_gD7P"
      }
    },
    {
      "cell_type": "code",
      "source": [
        "import logging\n",
        "\n",
        "# Set up logging configuration\n",
        "logging.basicConfig(\n",
        "    filename='program.log',  # Log file where messages will be saved\n",
        "    level=logging.DEBUG,  # Log all messages of level DEBUG and higher (INFO, WARNING, ERROR, CRITICAL)\n",
        "    format='%(asctime)s - %(levelname)s - %(message)s',  # Log format with time, level, and message\n",
        ")\n",
        "\n",
        "# Log an informational message\n",
        "logging.info(\"This is an informational message. The program has started.\")\n",
        "\n",
        "try:\n",
        "    # Example of division by zero error\n",
        "    x = 10\n",
        "    y = 0\n",
        "    result = x / y  # This will raise a ZeroDivisionError\n",
        "except ZeroDivisionError as e:\n",
        "    # Log an error message\n",
        "    logging.error(f\"Error occurred: {e}\")\n",
        "\n",
        "# Log another informational message\n",
        "logging.info(\"This is another informational message. The program is continuing.\")\n",
        "\n",
        "# Log an informational message indicating the program has finished\n",
        "logging.info(\"Program execution completed.\")\n"
      ],
      "metadata": {
        "colab": {
          "base_uri": "https://localhost:8080/"
        },
        "id": "6mIKUF6igJgy",
        "outputId": "56842496-7146-4dc0-cb9d-e66ade072d35"
      },
      "execution_count": 22,
      "outputs": [
        {
          "output_type": "stream",
          "name": "stderr",
          "text": [
            "ERROR:root:Error occurred: division by zero\n"
          ]
        }
      ]
    },
    {
      "cell_type": "markdown",
      "source": [
        "15 Write a Python program that prints the content of a file and handles the case when the file is empty."
      ],
      "metadata": {
        "id": "agxb3hWbitTM"
      }
    },
    {
      "cell_type": "code",
      "source": [
        "def read_file_content(file_path):\n",
        "    try:\n",
        "        # Open the file in read mode\n",
        "        with open(file_path, 'r') as file:\n",
        "            content = file.read()  # Read the entire content of the file\n",
        "\n",
        "            # Check if the file is empty\n",
        "            if content:\n",
        "                print(\"File content:\")\n",
        "                print(content)\n",
        "            else:\n",
        "                print(\"The file is empty.\")\n",
        "\n",
        "    except FileNotFoundError:\n",
        "        print(f\"Error: The file '{file_path}' does not exist.\")\n",
        "    except PermissionError:\n",
        "        print(f\"Error: You do not have permission to access the file '{file_path}'.\")\n",
        "    except Exception as e:\n",
        "        print(f\"An unexpected error occurred: {e}\")\n",
        "\n",
        "# Provide the path to the file you want to read\n",
        "file_path = 'example.txt'  # Replace with your actual file path\n",
        "read_file_content(file_path)\n"
      ],
      "metadata": {
        "colab": {
          "base_uri": "https://localhost:8080/"
        },
        "id": "GXDowYHXix8K",
        "outputId": "b56a0318-81fb-444b-b59e-05de7f8a914c"
      },
      "execution_count": 23,
      "outputs": [
        {
          "output_type": "stream",
          "name": "stdout",
          "text": [
            "File content:\n",
            "Hello, this is a string written to the file!This is the new data being appended to the file.\n",
            "\n"
          ]
        }
      ]
    },
    {
      "cell_type": "markdown",
      "source": [
        " 16 Demonstrate how to use memory profiling to check the memory usage of a small program"
      ],
      "metadata": {
        "id": "8zk7cjPKi3ic"
      }
    },
    {
      "cell_type": "code",
      "source": [
        "from memory_profiler import profile\n",
        "\n",
        "# Function to demonstrate memory profiling\n",
        "@profile\n",
        "def my_function():\n",
        "    a = [1] * (10**6)  # List with 1 million elements\n",
        "    b = [2] * (2 * 10**7)  # List with 20 million elements\n",
        "    del b  # Deleting the large list to see memory reduction\n",
        "    return a\n",
        "\n",
        "if __name__ == \"__main__\":\n",
        "    my_function()\n"
      ],
      "metadata": {
        "colab": {
          "base_uri": "https://localhost:8080/",
          "height": 399
        },
        "id": "62nhiA4vjE0w",
        "outputId": "f0bb015f-d6e5-4f2f-a224-aa0ca36ab8c0"
      },
      "execution_count": 28,
      "outputs": [
        {
          "output_type": "error",
          "ename": "ModuleNotFoundError",
          "evalue": "No module named 'memory_profiler'",
          "traceback": [
            "\u001b[0;31m---------------------------------------------------------------------------\u001b[0m",
            "\u001b[0;31mModuleNotFoundError\u001b[0m                       Traceback (most recent call last)",
            "\u001b[0;32m<ipython-input-28-fc978382a637>\u001b[0m in \u001b[0;36m<cell line: 0>\u001b[0;34m()\u001b[0m\n\u001b[0;32m----> 1\u001b[0;31m \u001b[0;32mfrom\u001b[0m \u001b[0mmemory_profiler\u001b[0m \u001b[0;32mimport\u001b[0m \u001b[0mprofile\u001b[0m\u001b[0;34m\u001b[0m\u001b[0;34m\u001b[0m\u001b[0m\n\u001b[0m\u001b[1;32m      2\u001b[0m \u001b[0;34m\u001b[0m\u001b[0m\n\u001b[1;32m      3\u001b[0m \u001b[0;31m# Function to demonstrate memory profiling\u001b[0m\u001b[0;34m\u001b[0m\u001b[0;34m\u001b[0m\u001b[0m\n\u001b[1;32m      4\u001b[0m \u001b[0;34m@\u001b[0m\u001b[0mprofile\u001b[0m\u001b[0;34m\u001b[0m\u001b[0;34m\u001b[0m\u001b[0m\n\u001b[1;32m      5\u001b[0m \u001b[0;32mdef\u001b[0m \u001b[0mmy_function\u001b[0m\u001b[0;34m(\u001b[0m\u001b[0;34m)\u001b[0m\u001b[0;34m:\u001b[0m\u001b[0;34m\u001b[0m\u001b[0;34m\u001b[0m\u001b[0m\n",
            "\u001b[0;31mModuleNotFoundError\u001b[0m: No module named 'memory_profiler'",
            "",
            "\u001b[0;31m---------------------------------------------------------------------------\u001b[0;32m\nNOTE: If your import is failing due to a missing package, you can\nmanually install dependencies using either !pip or !apt.\n\nTo view examples of installing some common dependencies, click the\n\"Open Examples\" button below.\n\u001b[0;31m---------------------------------------------------------------------------\u001b[0m\n"
          ],
          "errorDetails": {
            "actions": [
              {
                "action": "open_url",
                "actionText": "Open Examples",
                "url": "/notebooks/snippets/importing_libraries.ipynb"
              }
            ]
          }
        }
      ]
    },
    {
      "cell_type": "markdown",
      "source": [
        "17 Write a Python program to create and write a list of numbers to a file, one number per line."
      ],
      "metadata": {
        "id": "LHcRb3okjlKe"
      }
    },
    {
      "cell_type": "code",
      "source": [
        "def write_numbers_to_file(file_path, numbers):\n",
        "    try:\n",
        "        # Open the file in write mode\n",
        "        with open(file_path, 'w') as file:\n",
        "            # Write each number in the list to a new line in the file\n",
        "            for number in numbers:\n",
        "                file.write(f\"{number}\\n\")\n",
        "        print(f\"Numbers have been successfully written to {file_path}.\")\n",
        "\n",
        "    except Exception as e:\n",
        "        print(f\"An error occurred: {e}\")\n",
        "\n",
        "# List of numbers\n",
        "numbers = [1, 2, 3, 4, 5, 6, 7, 8, 9, 10]\n",
        "\n",
        "# File path where the numbers will be written\n",
        "file_path = 'numbers.txt'\n",
        "\n",
        "# Call the function to write numbers to the file\n",
        "write_numbers_to_file(file_path, numbers)\n"
      ],
      "metadata": {
        "colab": {
          "base_uri": "https://localhost:8080/"
        },
        "id": "GrCDzWHCjuZn",
        "outputId": "29d9d464-3362-4d23-f208-750a44124f1d"
      },
      "execution_count": 29,
      "outputs": [
        {
          "output_type": "stream",
          "name": "stdout",
          "text": [
            "Numbers have been successfully written to numbers.txt.\n"
          ]
        }
      ]
    },
    {
      "cell_type": "markdown",
      "source": [
        "18 How would you implement a basic logging setup that logs to a file with rotation after 1MB."
      ],
      "metadata": {
        "id": "eFB7n931jxgT"
      }
    },
    {
      "cell_type": "code",
      "source": [
        "import logging\n",
        "from logging.handlers import RotatingFileHandler\n",
        "\n",
        "# Set up the logger\n",
        "logger = logging.getLogger(\"MyLogger\")\n",
        "logger.setLevel(logging.DEBUG)  # Log level set to DEBUG, you can adjust this as needed\n",
        "\n",
        "# Create a RotatingFileHandler that logs to 'app.log' and rotates the log file after 1MB\n",
        "log_handler = RotatingFileHandler(\n",
        "    'app.log', maxBytes=1e6, backupCount=3\n",
        ")\n",
        "# maxBytes=1e6 means 1MB (1 million bytes)\n",
        "# backupCount=3 means it will keep 3 backup files after rotation (app.log.1, app.log.2, app.log.3)\n",
        "\n",
        "# Set a logging format (optional)\n",
        "formatter = logging.Formatter('%(asctime)s - %(levelname)s - %(message)s')\n",
        "log_handler.setFormatter(formatter)\n",
        "\n",
        "# Add the handler to the logger\n",
        "logger.addHandler(log_handler)\n",
        "\n",
        "# Example logging\n",
        "logger.debug(\"This is a debug message.\")\n",
        "logger.info(\"This is an informational message.\")\n",
        "logger.warning(\"This is a warning message.\")\n",
        "logger.error(\"This is an error message.\")\n",
        "logger.critical(\"This is a critical message.\")\n"
      ],
      "metadata": {
        "colab": {
          "base_uri": "https://localhost:8080/"
        },
        "id": "cwA3VFnfj7WR",
        "outputId": "6eafc3ad-f308-4945-f455-7280ebae7205"
      },
      "execution_count": 30,
      "outputs": [
        {
          "output_type": "stream",
          "name": "stderr",
          "text": [
            "DEBUG:MyLogger:This is a debug message.\n",
            "INFO:MyLogger:This is an informational message.\n",
            "WARNING:MyLogger:This is a warning message.\n",
            "ERROR:MyLogger:This is an error message.\n",
            "CRITICAL:MyLogger:This is a critical message.\n"
          ]
        }
      ]
    },
    {
      "cell_type": "markdown",
      "source": [
        "19 Write a program that handles both IndexError and KeyError using a try-except block."
      ],
      "metadata": {
        "id": "tsvgwEPNkfk6"
      }
    },
    {
      "cell_type": "code",
      "source": [
        "def handle_exceptions():\n",
        "    # List and dictionary for demonstration\n",
        "    my_list = [1, 2, 3]\n",
        "    my_dict = {'a': 1, 'b': 2, 'c': 3}\n",
        "\n",
        "    try:\n",
        "        # Attempting to access an invalid index in the list\n",
        "        print(my_list[5])  # This will raise an IndexError\n",
        "\n",
        "        # Attempting to access a key that doesn't exist in the dictionary\n",
        "        print(my_dict['d'])  # This will raise a KeyError\n",
        "\n",
        "    except IndexError as index_err:\n",
        "        print(f\"IndexError: {index_err} - Invalid index in the list.\")\n",
        "\n",
        "    except KeyError as key_err:\n",
        "        print(f\"KeyError: {key_err} - Key not found in the dictionary.\")\n",
        "\n",
        "# Call the function\n",
        "handle_exceptions()\n"
      ],
      "metadata": {
        "colab": {
          "base_uri": "https://localhost:8080/"
        },
        "id": "kcoHuJ91kpuF",
        "outputId": "130f1b8e-8f66-4ed6-f7e4-d8e9cdea22f7"
      },
      "execution_count": 31,
      "outputs": [
        {
          "output_type": "stream",
          "name": "stdout",
          "text": [
            "IndexError: list index out of range - Invalid index in the list.\n"
          ]
        }
      ]
    },
    {
      "cell_type": "markdown",
      "source": [
        "20 How would you open a file and read its contents using a context manager in Python?"
      ],
      "metadata": {
        "id": "5f8gdCxXkuO4"
      }
    },
    {
      "cell_type": "code",
      "source": [
        "def read_file(file_path):\n",
        "    try:\n",
        "        # Open the file using a context manager (with statement)\n",
        "        with open(file_path, 'r') as file:\n",
        "            content = file.read()  # Read the entire content of the file\n",
        "            print(content)  # Print the content of the file\n",
        "\n",
        "    except FileNotFoundError:\n",
        "        print(f\"Error: The file '{file_path}' does not exist.\")\n",
        "    except Exception as e:\n",
        "        print(f\"An unexpected error occurred: {e}\")\n",
        "\n",
        "# Example file path\n",
        "file_path = 'example.txt'\n",
        "\n",
        "# Call the function to read the file\n",
        "read_file(file_path)\n"
      ],
      "metadata": {
        "colab": {
          "base_uri": "https://localhost:8080/"
        },
        "id": "vqtbFygrkwvL",
        "outputId": "388f9c98-3590-4544-bdc1-b66f6b4d7a96"
      },
      "execution_count": 32,
      "outputs": [
        {
          "output_type": "stream",
          "name": "stdout",
          "text": [
            "Hello, this is a string written to the file!This is the new data being appended to the file.\n",
            "\n"
          ]
        }
      ]
    },
    {
      "cell_type": "markdown",
      "source": [
        "21 Write a Python program that reads a file and prints the number of occurrences of a specific word."
      ],
      "metadata": {
        "id": "LDm0r7Okk8DU"
      }
    },
    {
      "cell_type": "code",
      "source": [
        "def count_word_in_file(file_path, word):\n",
        "    try:\n",
        "        # Initialize the counter for word occurrences\n",
        "        word_count = 0\n",
        "\n",
        "        # Open the file using the context manager\n",
        "        with open(file_path, 'r') as file:\n",
        "            # Read the file line by line\n",
        "            for line in file:\n",
        "                # Count occurrences of the word in the current line\n",
        "                word_count += line.lower().split().count(word.lower())\n",
        "\n",
        "        # Print the result\n",
        "        print(f\"The word '{word}' appears {word_count} times in the file '{file_path}'.\")\n",
        "\n",
        "    except FileNotFoundError:\n",
        "        print(f\"Error: The file '{file_path}' does not exist.\")\n",
        "    except Exception as e:\n",
        "        print(f\"An unexpected error occurred: {e}\")\n",
        "\n",
        "# Example usage\n",
        "file_path = 'example.txt'  # Replace with the path to your file\n",
        "word_to_count = 'python'  # Replace with the word you want to count\n",
        "\n",
        "# Call the function to count the word occurrences\n",
        "count_word_in_file(file_path, word_to_count)\n"
      ],
      "metadata": {
        "colab": {
          "base_uri": "https://localhost:8080/"
        },
        "id": "3pseca4llB2v",
        "outputId": "1cb72230-9a54-43ec-f777-adc3a17ba6c8"
      },
      "execution_count": 33,
      "outputs": [
        {
          "output_type": "stream",
          "name": "stdout",
          "text": [
            "The word 'python' appears 0 times in the file 'example.txt'.\n"
          ]
        }
      ]
    },
    {
      "cell_type": "markdown",
      "source": [
        "22 How can you check if a file is empty before attempting to read its contents?"
      ],
      "metadata": {
        "id": "_U-YdhoClX-2"
      }
    },
    {
      "cell_type": "code",
      "source": [
        "import os\n",
        "\n",
        "def read_file_if_not_empty(file_path):\n",
        "    try:\n",
        "        # Check if the file exists and is not empty\n",
        "        if os.path.exists(file_path) and os.path.getsize(file_path) > 0:\n",
        "            # Open and read the file if it is not empty\n",
        "            with open(file_path, 'r') as file:\n",
        "                content = file.read()\n",
        "                print(content)  # Print the content of the file\n",
        "        else:\n",
        "            print(f\"The file '{file_path}' is empty or does not exist.\")\n",
        "\n",
        "    except Exception as e:\n",
        "        print(f\"An unexpected error occurred: {e}\")\n",
        "\n",
        "# Example usage\n",
        "file_path = 'example.txt'  # Replace with your file path\n",
        "read_file_if_not_empty(file_path)\n"
      ],
      "metadata": {
        "colab": {
          "base_uri": "https://localhost:8080/"
        },
        "id": "hA8WOwSSlceO",
        "outputId": "37550139-b0cc-49e8-ad16-d624dfec1c76"
      },
      "execution_count": 34,
      "outputs": [
        {
          "output_type": "stream",
          "name": "stdout",
          "text": [
            "Hello, this is a string written to the file!This is the new data being appended to the file.\n",
            "\n"
          ]
        }
      ]
    },
    {
      "cell_type": "markdown",
      "source": [
        "23 Write a Python program that writes to a log file when an error occurs during file handling."
      ],
      "metadata": {
        "id": "dwpVCvJIlkbj"
      }
    },
    {
      "cell_type": "code",
      "source": [
        "import logging\n",
        "\n",
        "# Set up logging configuration\n",
        "logging.basicConfig(\n",
        "    filename='file_handling_errors.log',  # Log file where errors will be stored\n",
        "    level=logging.ERROR,  # Log level set to ERROR\n",
        "    format='%(asctime)s - %(levelname)s - %(message)s'  # Log format with timestamp and error message\n",
        ")\n",
        "\n",
        "def read_file(file_path):\n",
        "    try:\n",
        "        # Attempt to open and read the file\n",
        "        with open(file_path, 'r') as file:\n",
        "            content = file.read()\n",
        "            print(content)  # Print the content of the file\n",
        "    except Exception as e:\n",
        "        # Log the error to the log file\n",
        "        logging.error(f\"Error occurred while handling file '{file_path}': {e}\")\n",
        "        print(f\"An error occurred. Check the log file for details.\")\n",
        "\n",
        "# Example usage\n",
        "file_path = 'example.txt'  # Replace with the path to your file\n",
        "read_file(file_path)\n"
      ],
      "metadata": {
        "colab": {
          "base_uri": "https://localhost:8080/"
        },
        "id": "73MSOmzWloss",
        "outputId": "c15d0a63-c388-48d4-ae49-f813d892db62"
      },
      "execution_count": 35,
      "outputs": [
        {
          "output_type": "stream",
          "name": "stdout",
          "text": [
            "Hello, this is a string written to the file!This is the new data being appended to the file.\n",
            "\n"
          ]
        }
      ]
    }
  ]
}